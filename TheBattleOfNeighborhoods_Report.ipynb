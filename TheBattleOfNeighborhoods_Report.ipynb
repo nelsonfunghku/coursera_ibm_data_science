{
 "metadata": {
  "language_info": {
   "codemirror_mode": {
    "name": "ipython",
    "version": 3
   },
   "file_extension": ".py",
   "mimetype": "text/x-python",
   "name": "python",
   "nbconvert_exporter": "python",
   "pygments_lexer": "ipython3",
   "version": 3
  },
  "orig_nbformat": 2
 },
 "nbformat": 4,
 "nbformat_minor": 2,
 "cells": [
  {
   "source": [
    "# 1. Introduction\n",
    "## 1.1. Business Problem\n",
    "It's a rainy weekend in San Francisco and you're sitting at a table across from your three best friends, spit-balling dreams of owning your own coffee shop. We love coffee and we want to have our own coffee shop where we can share our coffee to others and know more people who love coffee.\n",
    "However, we don't know much about what you have to do logistically to acquire or build a coffee shop, but you and your friends seem to have millions of ideas for the types of drinks and atmosphere that would make your coffee shop the best in the city. You have a heated debate over the optimal neighborhood for setting up the coffee shop, but you can all agree that you would like it to be located in a safer part of the city and in a spot where people already tend to hang out. How can you figure out the best place in the city to start our dream coffee shop?\n",
    "\n",
    "That's what this project aims to figure out.\n",
    "\n",
    "## 1.2. Target Audience\n",
    "The target audience of this report would be anyone who wants to buy or build a coffee shop in San Francisco, or anyone in San Francisco just looking for a nice area to grab a coffee.\n",
    "\n",
    "# 2. Data\n",
    "\n",
    "## 2.1 Data Collection \n",
    "\n",
    "In order to best make this decision, we're gonna need some data. Fortunately, the city of San Francisco has hundreds of public datasets that describe various aspects of the city, and Foursquare API allows free access to some of its location and venue data.\n",
    "\n",
    "we are looking at two sets of data for our analysis:\n",
    "\n",
    "### - San Francisco Registered Business Data.\n",
    "- This is going to help us roughly gauge the foot traffic in each neighborhood of San Francisco (at least on the weekdays) by providing the number of businesses located within each neighborhood.\n",
    "\n",
    "\n",
    "### - Foursquare API\n",
    "- Foursquare data is robust and provides location data for Apple and Uber. Foursquare API allows you to retrieve information about the most popular spots in each neighborhood in San Francisco. This will be another good indication of foot traffic for particular venue types. Calling the Foursquare API returns a JSON file, which can be turned into a dataframe for analysis in python.\n",
    "\n",
    "## 2.2 Data Preprocessing\n",
    "\n",
    "Data downloaded and scraped from different sources need to be cleaned and combined. To transfom the data into a usable format, many steps are done to achieve the goal. Most of the data preprocessing process is done in Jupyter Notebook with pandas dataframe.\n",
    "\n",
    "# 3. Exploratory Data analysis\n",
    "\n",
    "EDA is conducted to facilitate the project. There are multiple graphs and images that can be found in the Notebook. The main findings are that:\n",
    "- Financial District/South Beach area has the most businesses\n",
    "- The Top 10 areas of having most businesses are: Financial District/South Beach, Mission, South of Market, Sunset/Parkside, Bayview Hunters Point, Marina, Tenderloin, Outer Richmond, Castro/Upper Market, Chinatown\n",
    "- Coffee shop is the most common venue in the top 6 areas\n",
    "- The 5 most common venues are Coffee Shop, Cocktail Bar, American Restaurant, Bakery, Pizza place\n",
    "\n"
   ],
   "cell_type": "markdown",
   "metadata": {}
  },
  {
   "cell_type": "code",
   "execution_count": null,
   "metadata": {},
   "outputs": [],
   "source": []
  }
 ]
}
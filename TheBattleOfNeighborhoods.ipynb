{
 "metadata": {
  "language_info": {
   "codemirror_mode": {
    "name": "ipython",
    "version": 3
   },
   "file_extension": ".py",
   "mimetype": "text/x-python",
   "name": "python",
   "nbconvert_exporter": "python",
   "pygments_lexer": "ipython3",
   "version": "3.7.4-final"
  },
  "orig_nbformat": 2,
  "kernelspec": {
   "name": "python3",
   "display_name": "Python 3.7.4 64-bit ('base_clone': conda)",
   "metadata": {
    "interpreter": {
     "hash": "178e411777ac5b222ca29c4c8c961b6f98de7341e62e65c1c57078aee1922db0"
    }
   }
  }
 },
 "nbformat": 4,
 "nbformat_minor": 2,
 "cells": [
  {
   "cell_type": "code",
   "execution_count": 6,
   "metadata": {},
   "outputs": [
    {
     "output_type": "stream",
     "name": "stdout",
     "text": [
      "Folium installed\nLibraries imported.\n"
     ]
    }
   ],
   "source": [
    "import requests # library to handle requests\n",
    "import pandas as pd # library for data analsysis\n",
    "import numpy as np # library to handle data in a vectorized manner\n",
    "import random # library for random number generation\n",
    "\n",
    "\n",
    "#!pip install geopy\n",
    "from geopy.geocoders import Nominatim # module to convert an address into latitude and longitude values\n",
    "\n",
    "# libraries for displaying images\n",
    "from IPython.display import Image \n",
    "from IPython.core.display import HTML \n",
    "    \n",
    "# tranforming json file into a pandas dataframe library\n",
    "from pandas.io.json import json_normalize\n",
    "\n",
    "\n",
    "#! pip install folium==0.5.0\n",
    "import folium # plotting library\n",
    "\n",
    "print('Folium installed')\n",
    "print('Libraries imported.')"
   ]
  },
  {
   "cell_type": "code",
   "execution_count": 7,
   "metadata": {},
   "outputs": [
    {
     "output_type": "stream",
     "name": "stdout",
     "text": [
      "Your credentails:\nCLIENT_ID: XXM0AT3HDN4QOFKNAOFP1UOIC0ALE1DAU4YVYBANGELHJO1B\nCLIENT_SECRET:D55HUK2B1UQZJILUDL3GPJMRILV5X4PBO0XM2RELROU5HASZ\n"
     ]
    }
   ],
   "source": [
    "CLIENT_ID = 'XXM0AT3HDN4QOFKNAOFP1UOIC0ALE1DAU4YVYBANGELHJO1B' # your Foursquare ID\n",
    "CLIENT_SECRET = 'D55HUK2B1UQZJILUDL3GPJMRILV5X4PBO0XM2RELROU5HASZ' # your Foursquare Secret\n",
    "#CODE='EZD1L1PBE0GYPGK3L1H4CD2B0MAYKY3AZOQPWIDLTWA5F2L0#_=_'\n",
    "ACCESS_TOKEN = 'QTA0BQWBKK4CLAUTECK1PI3IEPF1AYGITM5LDWS0G0MCCHMQ' # your FourSquare Access Token\n",
    "VERSION = '20180604'\n",
    "LIMIT = 30\n",
    "print('Your credentails:')\n",
    "print('CLIENT_ID: ' + CLIENT_ID)\n",
    "print('CLIENT_SECRET:' + CLIENT_SECRET)"
   ]
  },
  {
   "cell_type": "code",
   "execution_count": 24,
   "metadata": {},
   "outputs": [
    {
     "output_type": "stream",
     "name": "stdout",
     "text": [
      "(265717, 31)\n"
     ]
    },
    {
     "output_type": "execute_result",
     "data": {
      "text/plain": [
       "      Location Id  Business Account Number  \\\n",
       "0  1195825-07-181                  1090539   \n",
       "1  1218943-04-191                  1090062   \n",
       "2  1213384-02-191                  1098373   \n",
       "3  1204238-10-181                  1094420   \n",
       "4  1199922-09-181                  1092390   \n",
       "\n",
       "                                    Ownership Name  \\\n",
       "0                  Avatar Foods International, Inc   \n",
       "1  Mag  Physical Therapy, Pilates & Wellness, Inc.   \n",
       "2                                 Shivaya Tcsf Llc   \n",
       "3                                   Edy O Gonzales   \n",
       "4                                     Tyree Vaughn   \n",
       "\n",
       "                                DBA Name          Street Address  \\\n",
       "0               War Memorial Opera House        301 Van Ness Ave   \n",
       "1             Mag Pt, Pilates & Wellness   2065 Vallejo St Apt 3   \n",
       "2  The Center Sf Co-Work And Event Space         546 Fillmore St   \n",
       "3                        Eg Construction        120 Angelita Ave   \n",
       "4                       Big Ree Kitchen.  1565 Sunnydale Ave Ave   \n",
       "\n",
       "            City State  Source Zipcode Business Start Date Business End Date  \\\n",
       "0  San Francisco    CA         94102.0          07/23/2018        07/23/2018   \n",
       "1  San Francisco    CA         94123.0          03/16/2018               NaN   \n",
       "2  San Francisco    CA         94117.0          02/01/2019               NaN   \n",
       "3       Pacifica    CA         94044.0          05/01/2018               NaN   \n",
       "4  San+francisco    CA         94134.0          09/06/2018               NaN   \n",
       "\n",
       "   ... LIC Code Description Supervisor District  \\\n",
       "0  ...                  NaN                 5.0   \n",
       "1  ...                  NaN                 2.0   \n",
       "2  ...                  NaN                 5.0   \n",
       "3  ...                  NaN                 NaN   \n",
       "4  ...                  NaN                10.0   \n",
       "\n",
       "  Neighborhoods - Analysis Boundaries Business Corridor  \\\n",
       "0                        Hayes Valley               NaN   \n",
       "1                     Pacific Heights               NaN   \n",
       "2                        Hayes Valley               NaN   \n",
       "3                                 NaN               NaN   \n",
       "4                   Visitacion Valley               NaN   \n",
       "\n",
       "               Business Location Neighborhoods SF Find Neighborhoods  \\\n",
       "0    POINT (-122.41999 37.77829)          21.0                  21.0   \n",
       "1   POINT (-122.43122 37.795696)         102.0                 102.0   \n",
       "2   POINT (-122.43088 37.774418)          26.0                  26.0   \n",
       "3  POINT (-122.477066 37.613758)           NaN                   NaN   \n",
       "4     POINT (-122.4172 37.71216)          74.0                  74.0   \n",
       "\n",
       "  Current Police Districts  Current Supervisor Districts  \\\n",
       "0                      4.0                          11.0   \n",
       "1                      4.0                           6.0   \n",
       "2                      4.0                          11.0   \n",
       "3                      NaN                           NaN   \n",
       "4                      9.0                           9.0   \n",
       "\n",
       "   Analysis Neighborhoods  \n",
       "0                     9.0  \n",
       "1                    30.0  \n",
       "2                     9.0  \n",
       "3                     NaN  \n",
       "4                    40.0  \n",
       "\n",
       "[5 rows x 31 columns]"
      ],
      "text/html": "<div>\n<style scoped>\n    .dataframe tbody tr th:only-of-type {\n        vertical-align: middle;\n    }\n\n    .dataframe tbody tr th {\n        vertical-align: top;\n    }\n\n    .dataframe thead th {\n        text-align: right;\n    }\n</style>\n<table border=\"1\" class=\"dataframe\">\n  <thead>\n    <tr style=\"text-align: right;\">\n      <th></th>\n      <th>Location Id</th>\n      <th>Business Account Number</th>\n      <th>Ownership Name</th>\n      <th>DBA Name</th>\n      <th>Street Address</th>\n      <th>City</th>\n      <th>State</th>\n      <th>Source Zipcode</th>\n      <th>Business Start Date</th>\n      <th>Business End Date</th>\n      <th>...</th>\n      <th>LIC Code Description</th>\n      <th>Supervisor District</th>\n      <th>Neighborhoods - Analysis Boundaries</th>\n      <th>Business Corridor</th>\n      <th>Business Location</th>\n      <th>Neighborhoods</th>\n      <th>SF Find Neighborhoods</th>\n      <th>Current Police Districts</th>\n      <th>Current Supervisor Districts</th>\n      <th>Analysis Neighborhoods</th>\n    </tr>\n  </thead>\n  <tbody>\n    <tr>\n      <td>0</td>\n      <td>1195825-07-181</td>\n      <td>1090539</td>\n      <td>Avatar Foods International, Inc</td>\n      <td>War Memorial Opera House</td>\n      <td>301 Van Ness Ave</td>\n      <td>San Francisco</td>\n      <td>CA</td>\n      <td>94102.0</td>\n      <td>07/23/2018</td>\n      <td>07/23/2018</td>\n      <td>...</td>\n      <td>NaN</td>\n      <td>5.0</td>\n      <td>Hayes Valley</td>\n      <td>NaN</td>\n      <td>POINT (-122.41999 37.77829)</td>\n      <td>21.0</td>\n      <td>21.0</td>\n      <td>4.0</td>\n      <td>11.0</td>\n      <td>9.0</td>\n    </tr>\n    <tr>\n      <td>1</td>\n      <td>1218943-04-191</td>\n      <td>1090062</td>\n      <td>Mag  Physical Therapy, Pilates &amp; Wellness, Inc.</td>\n      <td>Mag Pt, Pilates &amp; Wellness</td>\n      <td>2065 Vallejo St Apt 3</td>\n      <td>San Francisco</td>\n      <td>CA</td>\n      <td>94123.0</td>\n      <td>03/16/2018</td>\n      <td>NaN</td>\n      <td>...</td>\n      <td>NaN</td>\n      <td>2.0</td>\n      <td>Pacific Heights</td>\n      <td>NaN</td>\n      <td>POINT (-122.43122 37.795696)</td>\n      <td>102.0</td>\n      <td>102.0</td>\n      <td>4.0</td>\n      <td>6.0</td>\n      <td>30.0</td>\n    </tr>\n    <tr>\n      <td>2</td>\n      <td>1213384-02-191</td>\n      <td>1098373</td>\n      <td>Shivaya Tcsf Llc</td>\n      <td>The Center Sf Co-Work And Event Space</td>\n      <td>546 Fillmore St</td>\n      <td>San Francisco</td>\n      <td>CA</td>\n      <td>94117.0</td>\n      <td>02/01/2019</td>\n      <td>NaN</td>\n      <td>...</td>\n      <td>NaN</td>\n      <td>5.0</td>\n      <td>Hayes Valley</td>\n      <td>NaN</td>\n      <td>POINT (-122.43088 37.774418)</td>\n      <td>26.0</td>\n      <td>26.0</td>\n      <td>4.0</td>\n      <td>11.0</td>\n      <td>9.0</td>\n    </tr>\n    <tr>\n      <td>3</td>\n      <td>1204238-10-181</td>\n      <td>1094420</td>\n      <td>Edy O Gonzales</td>\n      <td>Eg Construction</td>\n      <td>120 Angelita Ave</td>\n      <td>Pacifica</td>\n      <td>CA</td>\n      <td>94044.0</td>\n      <td>05/01/2018</td>\n      <td>NaN</td>\n      <td>...</td>\n      <td>NaN</td>\n      <td>NaN</td>\n      <td>NaN</td>\n      <td>NaN</td>\n      <td>POINT (-122.477066 37.613758)</td>\n      <td>NaN</td>\n      <td>NaN</td>\n      <td>NaN</td>\n      <td>NaN</td>\n      <td>NaN</td>\n    </tr>\n    <tr>\n      <td>4</td>\n      <td>1199922-09-181</td>\n      <td>1092390</td>\n      <td>Tyree Vaughn</td>\n      <td>Big Ree Kitchen.</td>\n      <td>1565 Sunnydale Ave Ave</td>\n      <td>San+francisco</td>\n      <td>CA</td>\n      <td>94134.0</td>\n      <td>09/06/2018</td>\n      <td>NaN</td>\n      <td>...</td>\n      <td>NaN</td>\n      <td>10.0</td>\n      <td>Visitacion Valley</td>\n      <td>NaN</td>\n      <td>POINT (-122.4172 37.71216)</td>\n      <td>74.0</td>\n      <td>74.0</td>\n      <td>9.0</td>\n      <td>9.0</td>\n      <td>40.0</td>\n    </tr>\n  </tbody>\n</table>\n<p>5 rows × 31 columns</p>\n</div>"
     },
     "metadata": {},
     "execution_count": 24
    }
   ],
   "source": [
    "\n",
    "\n",
    "business = pd.read_csv('https://data.sfgov.org/api/views/g8m3-pdis/rows.csv?accessType=DOWNLOAD')\n",
    "print(business.shape)\n",
    "business.head()"
   ]
  },
  {
   "cell_type": "code",
   "execution_count": 26,
   "metadata": {},
   "outputs": [
    {
     "output_type": "execute_result",
     "data": {
      "text/plain": [
       "  Business Start Date                          Business Name  \\\n",
       "0          2018-07-23               War Memorial Opera House   \n",
       "1          2018-03-16             Mag Pt, Pilates & Wellness   \n",
       "2          2019-02-01  The Center Sf Co-Work And Event Space   \n",
       "4          2018-09-06                       Big Ree Kitchen.   \n",
       "5          2018-08-20                          Daniel Plautz   \n",
       "\n",
       "          Neighborhood  \n",
       "0         Hayes Valley  \n",
       "1      Pacific Heights  \n",
       "2         Hayes Valley  \n",
       "4    Visitacion Valley  \n",
       "5  Castro/Upper Market  "
      ],
      "text/html": "<div>\n<style scoped>\n    .dataframe tbody tr th:only-of-type {\n        vertical-align: middle;\n    }\n\n    .dataframe tbody tr th {\n        vertical-align: top;\n    }\n\n    .dataframe thead th {\n        text-align: right;\n    }\n</style>\n<table border=\"1\" class=\"dataframe\">\n  <thead>\n    <tr style=\"text-align: right;\">\n      <th></th>\n      <th>Business Start Date</th>\n      <th>Business Name</th>\n      <th>Neighborhood</th>\n    </tr>\n  </thead>\n  <tbody>\n    <tr>\n      <td>0</td>\n      <td>2018-07-23</td>\n      <td>War Memorial Opera House</td>\n      <td>Hayes Valley</td>\n    </tr>\n    <tr>\n      <td>1</td>\n      <td>2018-03-16</td>\n      <td>Mag Pt, Pilates &amp; Wellness</td>\n      <td>Pacific Heights</td>\n    </tr>\n    <tr>\n      <td>2</td>\n      <td>2019-02-01</td>\n      <td>The Center Sf Co-Work And Event Space</td>\n      <td>Hayes Valley</td>\n    </tr>\n    <tr>\n      <td>4</td>\n      <td>2018-09-06</td>\n      <td>Big Ree Kitchen.</td>\n      <td>Visitacion Valley</td>\n    </tr>\n    <tr>\n      <td>5</td>\n      <td>2018-08-20</td>\n      <td>Daniel Plautz</td>\n      <td>Castro/Upper Market</td>\n    </tr>\n  </tbody>\n</table>\n</div>"
     },
     "metadata": {},
     "execution_count": 26
    }
   ],
   "source": [
    "business2 = business[['Business Start Date','DBA Name', 'Neighborhoods - Analysis Boundaries']].copy()\n",
    "\n",
    "#drop null values\n",
    "business3 = business2.dropna()\n",
    "\n",
    "#convert business start date to datetime\n",
    "business3['Business Start Date'] = business3['Business Start Date'].astype('datetime64[ns]') \n",
    "\n",
    "#let's just look at areas that have seen the most businesses start in the last decade.\n",
    "business4 = business3.loc[business3['Business Start Date'] > '2010-01-01']\n",
    "\n",
    "#let's also rename 'Neighborhoods - Analysis Boundaries' to just be 'Neighborhoods'\n",
    "business4.rename(columns={'Neighborhoods - Analysis Boundaries': 'Neighborhood'}, inplace = True)\n",
    "\n",
    "#let's do the same thing for the business name\n",
    "business4.rename(columns={'DBA Name': 'Business Name'}, inplace = True)\n",
    "\n",
    "business4.head()"
   ]
  },
  {
   "cell_type": "code",
   "execution_count": 27,
   "metadata": {},
   "outputs": [
    {
     "output_type": "execute_result",
     "data": {
      "text/plain": [
       "                      Neighborhood  Businesses\n",
       "5   Financial District/South Beach       19670\n",
       "18                         Mission       10336\n",
       "33                 South of Market        8782\n",
       "34                 Sunset/Parkside        6020\n",
       "0            Bayview Hunters Point        5747\n",
       "16                          Marina        4336\n",
       "35                      Tenderloin        4079\n",
       "25                  Outer Richmond        4064\n",
       "2              Castro/Upper Market        3938\n",
       "3                        Chinatown        3887"
      ],
      "text/html": "<div>\n<style scoped>\n    .dataframe tbody tr th:only-of-type {\n        vertical-align: middle;\n    }\n\n    .dataframe tbody tr th {\n        vertical-align: top;\n    }\n\n    .dataframe thead th {\n        text-align: right;\n    }\n</style>\n<table border=\"1\" class=\"dataframe\">\n  <thead>\n    <tr style=\"text-align: right;\">\n      <th></th>\n      <th>Neighborhood</th>\n      <th>Businesses</th>\n    </tr>\n  </thead>\n  <tbody>\n    <tr>\n      <td>5</td>\n      <td>Financial District/South Beach</td>\n      <td>19670</td>\n    </tr>\n    <tr>\n      <td>18</td>\n      <td>Mission</td>\n      <td>10336</td>\n    </tr>\n    <tr>\n      <td>33</td>\n      <td>South of Market</td>\n      <td>8782</td>\n    </tr>\n    <tr>\n      <td>34</td>\n      <td>Sunset/Parkside</td>\n      <td>6020</td>\n    </tr>\n    <tr>\n      <td>0</td>\n      <td>Bayview Hunters Point</td>\n      <td>5747</td>\n    </tr>\n    <tr>\n      <td>16</td>\n      <td>Marina</td>\n      <td>4336</td>\n    </tr>\n    <tr>\n      <td>35</td>\n      <td>Tenderloin</td>\n      <td>4079</td>\n    </tr>\n    <tr>\n      <td>25</td>\n      <td>Outer Richmond</td>\n      <td>4064</td>\n    </tr>\n    <tr>\n      <td>2</td>\n      <td>Castro/Upper Market</td>\n      <td>3938</td>\n    </tr>\n    <tr>\n      <td>3</td>\n      <td>Chinatown</td>\n      <td>3887</td>\n    </tr>\n  </tbody>\n</table>\n</div>"
     },
     "metadata": {},
     "execution_count": 27
    }
   ],
   "source": [
    "\n",
    "#Count the number of businesses in each neighborhood by grouping the data\n",
    "business5 = business4.groupby('Neighborhood', as_index=False).count()\n",
    "business5.reset_index()\n",
    "#let's get rid of the business start date, we won't be needing it anymore\n",
    "business5.drop(columns = 'Business Start Date',inplace = True)\n",
    "#rename our \"business name\" column to \"Businesses\" to reflect the count per neighborhood\n",
    "business5.rename(columns={'Business Name': 'Businesses'}, inplace = True)\n",
    "#and sort the data\n",
    "business6 = business5.sort_values(by= ['Businesses'], ascending = False).head(10)\n",
    "business6.reset_index(drop=True)\n",
    "business6"
   ]
  },
  {
   "cell_type": "code",
   "execution_count": 28,
   "metadata": {},
   "outputs": [
    {
     "output_type": "stream",
     "name": "stdout",
     "text": [
      "(41, 2)\n"
     ]
    },
    {
     "output_type": "execute_result",
     "data": {
      "text/plain": [
       "                      Neighborhood  Businesses\n",
       "5   Financial District/South Beach       19670\n",
       "18                         Mission       10336\n",
       "33                 South of Market        8782\n",
       "34                 Sunset/Parkside        6020\n",
       "0            Bayview Hunters Point        5747\n",
       "16                          Marina        4336\n",
       "35                      Tenderloin        4079\n",
       "25                  Outer Richmond        4064\n",
       "2              Castro/Upper Market        3938\n",
       "3                        Chinatown        3887\n",
       "20                        Nob Hill        3725\n",
       "9                     Hayes Valley        3634\n",
       "26                 Pacific Heights        3508\n",
       "39              West of Twin Peaks        3460\n",
       "28                    Potrero Hill        3405\n",
       "1                   Bernal Heights        2880\n",
       "21                      Noe Valley        2873\n",
       "22                     North Beach        2753\n",
       "11                    Inner Sunset        2655\n",
       "10                  Inner Richmond        2580\n",
       "8                   Haight Ashbury        2530\n",
       "31                    Russian Hill        2462\n",
       "19                     Mission Bay        2413\n",
       "40                Western Addition        2348\n",
       "4                        Excelsior        2213\n",
       "23      Oceanview/Merced/Ingleside        1662\n",
       "24                   Outer Mission        1592\n",
       "15               Lone Mountain/USF        1543\n",
       "30                Presidio Heights        1541\n",
       "13                       Lakeshore        1053\n",
       "27                         Portola         972\n",
       "38               Visitacion Valley         866\n",
       "6                        Glen Park         825\n",
       "12                       Japantown         692\n",
       "29                        Presidio         617\n",
       "37                      Twin Peaks         597\n",
       "36                 Treasure Island         514\n",
       "32                        Seacliff         143\n",
       "7                 Golden Gate Park          56\n",
       "14                    Lincoln Park          18\n",
       "17                    McLaren Park          17"
      ],
      "text/html": "<div>\n<style scoped>\n    .dataframe tbody tr th:only-of-type {\n        vertical-align: middle;\n    }\n\n    .dataframe tbody tr th {\n        vertical-align: top;\n    }\n\n    .dataframe thead th {\n        text-align: right;\n    }\n</style>\n<table border=\"1\" class=\"dataframe\">\n  <thead>\n    <tr style=\"text-align: right;\">\n      <th></th>\n      <th>Neighborhood</th>\n      <th>Businesses</th>\n    </tr>\n  </thead>\n  <tbody>\n    <tr>\n      <td>5</td>\n      <td>Financial District/South Beach</td>\n      <td>19670</td>\n    </tr>\n    <tr>\n      <td>18</td>\n      <td>Mission</td>\n      <td>10336</td>\n    </tr>\n    <tr>\n      <td>33</td>\n      <td>South of Market</td>\n      <td>8782</td>\n    </tr>\n    <tr>\n      <td>34</td>\n      <td>Sunset/Parkside</td>\n      <td>6020</td>\n    </tr>\n    <tr>\n      <td>0</td>\n      <td>Bayview Hunters Point</td>\n      <td>5747</td>\n    </tr>\n    <tr>\n      <td>16</td>\n      <td>Marina</td>\n      <td>4336</td>\n    </tr>\n    <tr>\n      <td>35</td>\n      <td>Tenderloin</td>\n      <td>4079</td>\n    </tr>\n    <tr>\n      <td>25</td>\n      <td>Outer Richmond</td>\n      <td>4064</td>\n    </tr>\n    <tr>\n      <td>2</td>\n      <td>Castro/Upper Market</td>\n      <td>3938</td>\n    </tr>\n    <tr>\n      <td>3</td>\n      <td>Chinatown</td>\n      <td>3887</td>\n    </tr>\n    <tr>\n      <td>20</td>\n      <td>Nob Hill</td>\n      <td>3725</td>\n    </tr>\n    <tr>\n      <td>9</td>\n      <td>Hayes Valley</td>\n      <td>3634</td>\n    </tr>\n    <tr>\n      <td>26</td>\n      <td>Pacific Heights</td>\n      <td>3508</td>\n    </tr>\n    <tr>\n      <td>39</td>\n      <td>West of Twin Peaks</td>\n      <td>3460</td>\n    </tr>\n    <tr>\n      <td>28</td>\n      <td>Potrero Hill</td>\n      <td>3405</td>\n    </tr>\n    <tr>\n      <td>1</td>\n      <td>Bernal Heights</td>\n      <td>2880</td>\n    </tr>\n    <tr>\n      <td>21</td>\n      <td>Noe Valley</td>\n      <td>2873</td>\n    </tr>\n    <tr>\n      <td>22</td>\n      <td>North Beach</td>\n      <td>2753</td>\n    </tr>\n    <tr>\n      <td>11</td>\n      <td>Inner Sunset</td>\n      <td>2655</td>\n    </tr>\n    <tr>\n      <td>10</td>\n      <td>Inner Richmond</td>\n      <td>2580</td>\n    </tr>\n    <tr>\n      <td>8</td>\n      <td>Haight Ashbury</td>\n      <td>2530</td>\n    </tr>\n    <tr>\n      <td>31</td>\n      <td>Russian Hill</td>\n      <td>2462</td>\n    </tr>\n    <tr>\n      <td>19</td>\n      <td>Mission Bay</td>\n      <td>2413</td>\n    </tr>\n    <tr>\n      <td>40</td>\n      <td>Western Addition</td>\n      <td>2348</td>\n    </tr>\n    <tr>\n      <td>4</td>\n      <td>Excelsior</td>\n      <td>2213</td>\n    </tr>\n    <tr>\n      <td>23</td>\n      <td>Oceanview/Merced/Ingleside</td>\n      <td>1662</td>\n    </tr>\n    <tr>\n      <td>24</td>\n      <td>Outer Mission</td>\n      <td>1592</td>\n    </tr>\n    <tr>\n      <td>15</td>\n      <td>Lone Mountain/USF</td>\n      <td>1543</td>\n    </tr>\n    <tr>\n      <td>30</td>\n      <td>Presidio Heights</td>\n      <td>1541</td>\n    </tr>\n    <tr>\n      <td>13</td>\n      <td>Lakeshore</td>\n      <td>1053</td>\n    </tr>\n    <tr>\n      <td>27</td>\n      <td>Portola</td>\n      <td>972</td>\n    </tr>\n    <tr>\n      <td>38</td>\n      <td>Visitacion Valley</td>\n      <td>866</td>\n    </tr>\n    <tr>\n      <td>6</td>\n      <td>Glen Park</td>\n      <td>825</td>\n    </tr>\n    <tr>\n      <td>12</td>\n      <td>Japantown</td>\n      <td>692</td>\n    </tr>\n    <tr>\n      <td>29</td>\n      <td>Presidio</td>\n      <td>617</td>\n    </tr>\n    <tr>\n      <td>37</td>\n      <td>Twin Peaks</td>\n      <td>597</td>\n    </tr>\n    <tr>\n      <td>36</td>\n      <td>Treasure Island</td>\n      <td>514</td>\n    </tr>\n    <tr>\n      <td>32</td>\n      <td>Seacliff</td>\n      <td>143</td>\n    </tr>\n    <tr>\n      <td>7</td>\n      <td>Golden Gate Park</td>\n      <td>56</td>\n    </tr>\n    <tr>\n      <td>14</td>\n      <td>Lincoln Park</td>\n      <td>18</td>\n    </tr>\n    <tr>\n      <td>17</td>\n      <td>McLaren Park</td>\n      <td>17</td>\n    </tr>\n  </tbody>\n</table>\n</div>"
     },
     "metadata": {},
     "execution_count": 28
    }
   ],
   "source": [
    "#for reference, here is every neighborhood in SF as well as the count of registered businesses\n",
    "business7 = business5.sort_values(by= ['Businesses'], ascending = False)\n",
    "business7.reset_index(drop=True)\n",
    "print(business7.shape)\n",
    "business7"
   ]
  },
  {
   "cell_type": "code",
   "execution_count": 30,
   "metadata": {},
   "outputs": [
    {
     "output_type": "display_data",
     "data": {
      "text/plain": "<Figure size 1296x576 with 1 Axes>",
      "image/png": "[encoded data removed]"
     },
     "metadata": {
      "needs_background": "light"
     }
    }
   ],
   "source": [
    "%matplotlib inline \n",
    "import matplotlib as mpl\n",
    "import matplotlib.pyplot as plt\n",
    "\n",
    "\n",
    "business6.plot.bar(x = 'Neighborhood', y = 'Businesses', title = \"Number of Registered Businesses by Neighborhood\", legend = None, rot= 45, figsize = (18, 8), color=['darkslategray','darkcyan','darkturquoise','cadetblue', 'powderblue','lightblue','deepskyblue','skyblue','lightskyblue','steelblue'])\n",
    "plt.ylabel('Number of Registered Businesses', fontsize=12)\n",
    "plt.xticks(fontsize=13)\n",
    "plt.xlabel('Neighborhood', fontsize=12)\n",
    "plt.title('Number of Registered Businesses by Neighborhood', fontsize = 14)\n",
    "plt.show()"
   ]
  },
  {
   "cell_type": "code",
   "execution_count": 67,
   "metadata": {},
   "outputs": [],
   "source": [
    "SF_Neighborhoods = business6"
   ]
  },
  {
   "cell_type": "code",
   "execution_count": 68,
   "metadata": {},
   "outputs": [],
   "source": [
    "\n",
    "from geopy.geocoders import Nominatim"
   ]
  },
  {
   "cell_type": "code",
   "execution_count": 69,
   "metadata": {},
   "outputs": [],
   "source": [
    "def get_latitude_longitude(x):\n",
    "    if x:\n",
    "        return x.latitude, x.longitude\n",
    "    else:\n",
    "        return None"
   ]
  },
  {
   "cell_type": "code",
   "execution_count": 70,
   "metadata": {},
   "outputs": [
    {
     "output_type": "execute_result",
     "data": {
      "text/plain": [
       "                      Neighborhood  Businesses  \\\n",
       "5   Financial District/South Beach       19670   \n",
       "18                         Mission       10336   \n",
       "33                 South of Market        8782   \n",
       "34                 Sunset/Parkside        6020   \n",
       "0            Bayview Hunters Point        5747   \n",
       "16                          Marina        4336   \n",
       "35                      Tenderloin        4079   \n",
       "25                  Outer Richmond        4064   \n",
       "2              Castro/Upper Market        3938   \n",
       "3                        Chinatown        3887   \n",
       "\n",
       "                          Coordinates  \n",
       "5                                None  \n",
       "18          (26.2159066, -98.3252932)  \n",
       "33         (37.7808925, -122.4009518)  \n",
       "34  (42.75562315, -81.19147418031011)  \n",
       "0            (46.823038, -92.0821832)  \n",
       "16           (43.5139149, 16.1092196)  \n",
       "35         (37.7842493, -122.4139933)  \n",
       "25            (44.108805, -69.798725)  \n",
       "2           (37.767115, -122.4288861)  \n",
       "3           (40.7164913, -73.9962504)  "
      ],
      "text/html": "<div>\n<style scoped>\n    .dataframe tbody tr th:only-of-type {\n        vertical-align: middle;\n    }\n\n    .dataframe tbody tr th {\n        vertical-align: top;\n    }\n\n    .dataframe thead th {\n        text-align: right;\n    }\n</style>\n<table border=\"1\" class=\"dataframe\">\n  <thead>\n    <tr style=\"text-align: right;\">\n      <th></th>\n      <th>Neighborhood</th>\n      <th>Businesses</th>\n      <th>Coordinates</th>\n    </tr>\n  </thead>\n  <tbody>\n    <tr>\n      <td>5</td>\n      <td>Financial District/South Beach</td>\n      <td>19670</td>\n      <td>None</td>\n    </tr>\n    <tr>\n      <td>18</td>\n      <td>Mission</td>\n      <td>10336</td>\n      <td>(26.2159066, -98.3252932)</td>\n    </tr>\n    <tr>\n      <td>33</td>\n      <td>South of Market</td>\n      <td>8782</td>\n      <td>(37.7808925, -122.4009518)</td>\n    </tr>\n    <tr>\n      <td>34</td>\n      <td>Sunset/Parkside</td>\n      <td>6020</td>\n      <td>(42.75562315, -81.19147418031011)</td>\n    </tr>\n    <tr>\n      <td>0</td>\n      <td>Bayview Hunters Point</td>\n      <td>5747</td>\n      <td>(46.823038, -92.0821832)</td>\n    </tr>\n    <tr>\n      <td>16</td>\n      <td>Marina</td>\n      <td>4336</td>\n      <td>(43.5139149, 16.1092196)</td>\n    </tr>\n    <tr>\n      <td>35</td>\n      <td>Tenderloin</td>\n      <td>4079</td>\n      <td>(37.7842493, -122.4139933)</td>\n    </tr>\n    <tr>\n      <td>25</td>\n      <td>Outer Richmond</td>\n      <td>4064</td>\n      <td>(44.108805, -69.798725)</td>\n    </tr>\n    <tr>\n      <td>2</td>\n      <td>Castro/Upper Market</td>\n      <td>3938</td>\n      <td>(37.767115, -122.4288861)</td>\n    </tr>\n    <tr>\n      <td>3</td>\n      <td>Chinatown</td>\n      <td>3887</td>\n      <td>(40.7164913, -73.9962504)</td>\n    </tr>\n  </tbody>\n</table>\n</div>"
     },
     "metadata": {},
     "execution_count": 70
    }
   ],
   "source": [
    "\n",
    "from geopy.geocoders import Nominatim\n",
    "\n",
    "\n",
    "geolocator = Nominatim(user_agent=\"SF_explorer\")\n",
    "SF_Neighborhoods['Coordinates'] = SF_Neighborhoods['Neighborhood'].apply(geolocator.geocode).apply(get_latitude_longitude)\n",
    "SF_Neighborhoods"
   ]
  },
  {
   "cell_type": "code",
   "execution_count": 82,
   "metadata": {},
   "outputs": [],
   "source": [
    "SF_Neighborhoods = SF_Neighborhoods.dropna(subset=['Coordinates'])"
   ]
  },
  {
   "cell_type": "code",
   "execution_count": 83,
   "metadata": {},
   "outputs": [
    {
     "output_type": "execute_result",
     "data": {
      "text/plain": [
       "             Neighborhood  Businesses                        Coordinates\n",
       "18                Mission       10336          (26.2159066, -98.3252932)\n",
       "33        South of Market        8782         (37.7808925, -122.4009518)\n",
       "34        Sunset/Parkside        6020  (42.75562315, -81.19147418031011)\n",
       "0   Bayview Hunters Point        5747           (46.823038, -92.0821832)\n",
       "16                 Marina        4336           (43.5139149, 16.1092196)\n",
       "35             Tenderloin        4079         (37.7842493, -122.4139933)\n",
       "25         Outer Richmond        4064            (44.108805, -69.798725)\n",
       "2     Castro/Upper Market        3938          (37.767115, -122.4288861)\n",
       "3               Chinatown        3887          (40.7164913, -73.9962504)"
      ],
      "text/html": "<div>\n<style scoped>\n    .dataframe tbody tr th:only-of-type {\n        vertical-align: middle;\n    }\n\n    .dataframe tbody tr th {\n        vertical-align: top;\n    }\n\n    .dataframe thead th {\n        text-align: right;\n    }\n</style>\n<table border=\"1\" class=\"dataframe\">\n  <thead>\n    <tr style=\"text-align: right;\">\n      <th></th>\n      <th>Neighborhood</th>\n      <th>Businesses</th>\n      <th>Coordinates</th>\n    </tr>\n  </thead>\n  <tbody>\n    <tr>\n      <td>18</td>\n      <td>Mission</td>\n      <td>10336</td>\n      <td>(26.2159066, -98.3252932)</td>\n    </tr>\n    <tr>\n      <td>33</td>\n      <td>South of Market</td>\n      <td>8782</td>\n      <td>(37.7808925, -122.4009518)</td>\n    </tr>\n    <tr>\n      <td>34</td>\n      <td>Sunset/Parkside</td>\n      <td>6020</td>\n      <td>(42.75562315, -81.19147418031011)</td>\n    </tr>\n    <tr>\n      <td>0</td>\n      <td>Bayview Hunters Point</td>\n      <td>5747</td>\n      <td>(46.823038, -92.0821832)</td>\n    </tr>\n    <tr>\n      <td>16</td>\n      <td>Marina</td>\n      <td>4336</td>\n      <td>(43.5139149, 16.1092196)</td>\n    </tr>\n    <tr>\n      <td>35</td>\n      <td>Tenderloin</td>\n      <td>4079</td>\n      <td>(37.7842493, -122.4139933)</td>\n    </tr>\n    <tr>\n      <td>25</td>\n      <td>Outer Richmond</td>\n      <td>4064</td>\n      <td>(44.108805, -69.798725)</td>\n    </tr>\n    <tr>\n      <td>2</td>\n      <td>Castro/Upper Market</td>\n      <td>3938</td>\n      <td>(37.767115, -122.4288861)</td>\n    </tr>\n    <tr>\n      <td>3</td>\n      <td>Chinatown</td>\n      <td>3887</td>\n      <td>(40.7164913, -73.9962504)</td>\n    </tr>\n  </tbody>\n</table>\n</div>"
     },
     "metadata": {},
     "execution_count": 83
    }
   ],
   "source": [
    "SF_Neighborhoods"
   ]
  },
  {
   "cell_type": "code",
   "execution_count": 102,
   "metadata": {},
   "outputs": [],
   "source": [
    "SF_Neighborhoods['Coordinates'] = SF_Neighborhoods['Coordinates'].astype(str)"
   ]
  },
  {
   "cell_type": "code",
   "execution_count": 104,
   "metadata": {},
   "outputs": [],
   "source": [
    "SF_Neighborhoods[['Latitude','Longitude']] = SF_Neighborhoods['Coordinates'].str.strip('(').str.strip(')').str.split(', ', expand=True)"
   ]
  },
  {
   "cell_type": "code",
   "execution_count": 105,
   "metadata": {},
   "outputs": [
    {
     "output_type": "execute_result",
     "data": {
      "text/plain": [
       "             Neighborhood  Businesses                        Coordinates  \\\n",
       "18                Mission       10336          (26.2159066, -98.3252932)   \n",
       "33        South of Market        8782         (37.7808925, -122.4009518)   \n",
       "34        Sunset/Parkside        6020  (42.75562315, -81.19147418031011)   \n",
       "0   Bayview Hunters Point        5747           (46.823038, -92.0821832)   \n",
       "16                 Marina        4336           (43.5139149, 16.1092196)   \n",
       "35             Tenderloin        4079         (37.7842493, -122.4139933)   \n",
       "25         Outer Richmond        4064            (44.108805, -69.798725)   \n",
       "2     Castro/Upper Market        3938          (37.767115, -122.4288861)   \n",
       "3               Chinatown        3887          (40.7164913, -73.9962504)   \n",
       "\n",
       "       Latitude           Longitude  \n",
       "18   26.2159066         -98.3252932  \n",
       "33   37.7808925        -122.4009518  \n",
       "34  42.75562315  -81.19147418031011  \n",
       "0     46.823038         -92.0821832  \n",
       "16   43.5139149          16.1092196  \n",
       "35   37.7842493        -122.4139933  \n",
       "25    44.108805          -69.798725  \n",
       "2     37.767115        -122.4288861  \n",
       "3    40.7164913         -73.9962504  "
      ],
      "text/html": "<div>\n<style scoped>\n    .dataframe tbody tr th:only-of-type {\n        vertical-align: middle;\n    }\n\n    .dataframe tbody tr th {\n        vertical-align: top;\n    }\n\n    .dataframe thead th {\n        text-align: right;\n    }\n</style>\n<table border=\"1\" class=\"dataframe\">\n  <thead>\n    <tr style=\"text-align: right;\">\n      <th></th>\n      <th>Neighborhood</th>\n      <th>Businesses</th>\n      <th>Coordinates</th>\n      <th>Latitude</th>\n      <th>Longitude</th>\n    </tr>\n  </thead>\n  <tbody>\n    <tr>\n      <td>18</td>\n      <td>Mission</td>\n      <td>10336</td>\n      <td>(26.2159066, -98.3252932)</td>\n      <td>26.2159066</td>\n      <td>-98.3252932</td>\n    </tr>\n    <tr>\n      <td>33</td>\n      <td>South of Market</td>\n      <td>8782</td>\n      <td>(37.7808925, -122.4009518)</td>\n      <td>37.7808925</td>\n      <td>-122.4009518</td>\n    </tr>\n    <tr>\n      <td>34</td>\n      <td>Sunset/Parkside</td>\n      <td>6020</td>\n      <td>(42.75562315, -81.19147418031011)</td>\n      <td>42.75562315</td>\n      <td>-81.19147418031011</td>\n    </tr>\n    <tr>\n      <td>0</td>\n      <td>Bayview Hunters Point</td>\n      <td>5747</td>\n      <td>(46.823038, -92.0821832)</td>\n      <td>46.823038</td>\n      <td>-92.0821832</td>\n    </tr>\n    <tr>\n      <td>16</td>\n      <td>Marina</td>\n      <td>4336</td>\n      <td>(43.5139149, 16.1092196)</td>\n      <td>43.5139149</td>\n      <td>16.1092196</td>\n    </tr>\n    <tr>\n      <td>35</td>\n      <td>Tenderloin</td>\n      <td>4079</td>\n      <td>(37.7842493, -122.4139933)</td>\n      <td>37.7842493</td>\n      <td>-122.4139933</td>\n    </tr>\n    <tr>\n      <td>25</td>\n      <td>Outer Richmond</td>\n      <td>4064</td>\n      <td>(44.108805, -69.798725)</td>\n      <td>44.108805</td>\n      <td>-69.798725</td>\n    </tr>\n    <tr>\n      <td>2</td>\n      <td>Castro/Upper Market</td>\n      <td>3938</td>\n      <td>(37.767115, -122.4288861)</td>\n      <td>37.767115</td>\n      <td>-122.4288861</td>\n    </tr>\n    <tr>\n      <td>3</td>\n      <td>Chinatown</td>\n      <td>3887</td>\n      <td>(40.7164913, -73.9962504)</td>\n      <td>40.7164913</td>\n      <td>-73.9962504</td>\n    </tr>\n  </tbody>\n</table>\n</div>"
     },
     "metadata": {},
     "execution_count": 105
    }
   ],
   "source": [
    "SF_Neighborhoods"
   ]
  },
  {
   "cell_type": "code",
   "execution_count": 106,
   "metadata": {},
   "outputs": [],
   "source": [
    "def getNearbyVenues(names, latitudes, longitudes, radius=800):\n",
    "    \n",
    "    venues_list=[]\n",
    "    for name, lat, lng in zip(names, latitudes, longitudes):\n",
    "        print(name)\n",
    "            \n",
    "        # create the API request URL\n",
    "        url = 'https://api.foursquare.com/v2/venues/explore?&client_id={}&client_secret={}&v={}&ll={},{}&radius={}&limit={}'.format(\n",
    "            CLIENT_ID, \n",
    "            CLIENT_SECRET, \n",
    "            VERSION, \n",
    "            lat, \n",
    "            lng, \n",
    "            radius, \n",
    "            LIMIT)\n",
    "            \n",
    "        # make the GET request\n",
    "        results = requests.get(url).json()[\"response\"]['groups'][0]['items']\n",
    "        \n",
    "        # return only relevant information for each nearby venue\n",
    "        venues_list.append([(\n",
    "            name, \n",
    "            lat, \n",
    "            lng, \n",
    "            v['venue']['name'], \n",
    "            v['venue']['location']['lat'], \n",
    "            v['venue']['location']['lng'],  \n",
    "            v['venue']['categories'][0]['name']) for v in results])\n",
    "\n",
    "    nearby_venues = pd.DataFrame([item for venue_list in venues_list for item in venue_list])\n",
    "    nearby_venues.columns = ['Neighborhood', \n",
    "                  'Neighborhood Latitude', \n",
    "                  'Neighborhood Longitude', \n",
    "                  'Venue', \n",
    "                  'Venue Latitude', \n",
    "                  'Venue Longitude', \n",
    "                  'Venue Category']\n",
    "    \n",
    "    return(nearby_venues)"
   ]
  },
  {
   "cell_type": "code",
   "execution_count": 107,
   "metadata": {},
   "outputs": [
    {
     "output_type": "stream",
     "name": "stdout",
     "text": [
      "Mission\n",
      "South of Market\n",
      "Sunset/Parkside\n",
      "Bayview Hunters Point\n",
      "Marina\n",
      "Tenderloin\n",
      "Outer Richmond\n",
      "Castro/Upper Market\n",
      "Chinatown\n"
     ]
    }
   ],
   "source": [
    "SF_venues = getNearbyVenues(names=SF_Neighborhoods['Neighborhood'],\n",
    "                                   latitudes=SF_Neighborhoods['Latitude'],\n",
    "                                   longitudes=SF_Neighborhoods['Longitude']\n",
    "                                  )"
   ]
  },
  {
   "cell_type": "code",
   "execution_count": 108,
   "metadata": {},
   "outputs": [
    {
     "output_type": "execute_result",
     "data": {
      "text/plain": [
       "                       Neighborhood Latitude  Neighborhood Longitude  Venue  \\\n",
       "Neighborhood                                                                  \n",
       "Bayview Hunters Point                     17                      17     17   \n",
       "Castro/Upper Market                       30                      30     30   \n",
       "Chinatown                                 30                      30     30   \n",
       "Marina                                     8                       8      8   \n",
       "Mission                                   14                      14     14   \n",
       "South of Market                           30                      30     30   \n",
       "Sunset/Parkside                            5                       5      5   \n",
       "Tenderloin                                30                      30     30   \n",
       "\n",
       "                       Venue Latitude  Venue Longitude  Venue Category  \n",
       "Neighborhood                                                            \n",
       "Bayview Hunters Point              17               17              17  \n",
       "Castro/Upper Market                30               30              30  \n",
       "Chinatown                          30               30              30  \n",
       "Marina                              8                8               8  \n",
       "Mission                            14               14              14  \n",
       "South of Market                    30               30              30  \n",
       "Sunset/Parkside                     5                5               5  \n",
       "Tenderloin                         30               30              30  "
      ],
      "text/html": "<div>\n<style scoped>\n    .dataframe tbody tr th:only-of-type {\n        vertical-align: middle;\n    }\n\n    .dataframe tbody tr th {\n        vertical-align: top;\n    }\n\n    .dataframe thead th {\n        text-align: right;\n    }\n</style>\n<table border=\"1\" class=\"dataframe\">\n  <thead>\n    <tr style=\"text-align: right;\">\n      <th></th>\n      <th>Neighborhood Latitude</th>\n      <th>Neighborhood Longitude</th>\n      <th>Venue</th>\n      <th>Venue Latitude</th>\n      <th>Venue Longitude</th>\n      <th>Venue Category</th>\n    </tr>\n    <tr>\n      <th>Neighborhood</th>\n      <th></th>\n      <th></th>\n      <th></th>\n      <th></th>\n      <th></th>\n      <th></th>\n    </tr>\n  </thead>\n  <tbody>\n    <tr>\n      <td>Bayview Hunters Point</td>\n      <td>17</td>\n      <td>17</td>\n      <td>17</td>\n      <td>17</td>\n      <td>17</td>\n      <td>17</td>\n    </tr>\n    <tr>\n      <td>Castro/Upper Market</td>\n      <td>30</td>\n      <td>30</td>\n      <td>30</td>\n      <td>30</td>\n      <td>30</td>\n      <td>30</td>\n    </tr>\n    <tr>\n      <td>Chinatown</td>\n      <td>30</td>\n      <td>30</td>\n      <td>30</td>\n      <td>30</td>\n      <td>30</td>\n      <td>30</td>\n    </tr>\n    <tr>\n      <td>Marina</td>\n      <td>8</td>\n      <td>8</td>\n      <td>8</td>\n      <td>8</td>\n      <td>8</td>\n      <td>8</td>\n    </tr>\n    <tr>\n      <td>Mission</td>\n      <td>14</td>\n      <td>14</td>\n      <td>14</td>\n      <td>14</td>\n      <td>14</td>\n      <td>14</td>\n    </tr>\n    <tr>\n      <td>South of Market</td>\n      <td>30</td>\n      <td>30</td>\n      <td>30</td>\n      <td>30</td>\n      <td>30</td>\n      <td>30</td>\n    </tr>\n    <tr>\n      <td>Sunset/Parkside</td>\n      <td>5</td>\n      <td>5</td>\n      <td>5</td>\n      <td>5</td>\n      <td>5</td>\n      <td>5</td>\n    </tr>\n    <tr>\n      <td>Tenderloin</td>\n      <td>30</td>\n      <td>30</td>\n      <td>30</td>\n      <td>30</td>\n      <td>30</td>\n      <td>30</td>\n    </tr>\n  </tbody>\n</table>\n</div>"
     },
     "metadata": {},
     "execution_count": 108
    }
   ],
   "source": [
    "SF_venues.groupby('Neighborhood').count()"
   ]
  },
  {
   "cell_type": "code",
   "execution_count": 109,
   "metadata": {},
   "outputs": [
    {
     "output_type": "stream",
     "name": "stdout",
     "text": [
      "There are 90 uniques categories.\n"
     ]
    }
   ],
   "source": [
    "\n",
    "print('There are {} uniques categories.'.format(len(SF_venues['Venue Category'].unique())))"
   ]
  },
  {
   "cell_type": "code",
   "execution_count": 110,
   "metadata": {},
   "outputs": [
    {
     "output_type": "display_data",
     "data": {
      "text/plain": "<Figure size 1296x576 with 1 Axes>",
      "image/png": "[encoded data removed]"
     },
     "metadata": {
      "needs_background": "light"
     }
    }
   ],
   "source": [
    "SF_top_venues = SF_venues.groupby('Venue Category', as_index = False).count().sort_values('Neighborhood', ascending = False).head(5)\n",
    "SF_top_venues = SF_top_venues[['Venue Category','Neighborhood']]\n",
    "SF_top_venues.rename(columns={'Neighborhood': 'Frequency'}, inplace = True)\n",
    "SF_top_venues.plot.bar(x='Venue Category', y='Frequency', legend = None, title = \"Most common venue types in 6 prioritized neighborhoods\", rot= 45, figsize = (18, 8), color=['rebeccapurple','mediumslateblue','indigo','darkorchid','mediumpurple'])\n",
    "plt.ylabel('Frequency of Venue Type', fontsize=12)\n",
    "plt.xticks(fontsize=13)\n",
    "plt.xlabel('Venue Type', fontsize=12)\n",
    "plt.title('Most Common Venue Types in 6 Prioritized Neighborhoods', fontsize = 14)\n",
    "plt.show()"
   ]
  },
  {
   "cell_type": "code",
   "execution_count": 111,
   "metadata": {},
   "outputs": [
    {
     "output_type": "execute_result",
     "data": {
      "text/plain": [
       "  Neighborhood  ATM  Accessories Store  American Restaurant  Art Museum  \\\n",
       "0      Mission    0                  0                    1           0   \n",
       "1      Mission    0                  0                    0           0   \n",
       "2      Mission    0                  0                    0           0   \n",
       "3      Mission    0                  0                    0           0   \n",
       "4      Mission    0                  0                    0           0   \n",
       "\n",
       "   Asian Restaurant  Bakery  Baseball Field  Beach  Beer Bar  ...  \\\n",
       "0                 0       0               0      0         0  ...   \n",
       "1                 0       0               0      0         0  ...   \n",
       "2                 0       0               0      0         0  ...   \n",
       "3                 0       0               0      0         0  ...   \n",
       "4                 0       0               0      0         0  ...   \n",
       "\n",
       "   Tanning Salon  Tea Room  Thai Restaurant  Theater  Tiki Bar  Video Store  \\\n",
       "0              0         0                0        0         0            0   \n",
       "1              0         0                0        0         0            0   \n",
       "2              0         0                0        0         0            0   \n",
       "3              0         0                0        0         0            0   \n",
       "4              0         0                0        0         0            0   \n",
       "\n",
       "   Vietnamese Restaurant  Wine Bar  Wine Shop  Yoga Studio  \n",
       "0                      0         0          0            0  \n",
       "1                      0         0          0            0  \n",
       "2                      0         0          0            0  \n",
       "3                      0         0          0            0  \n",
       "4                      0         0          0            0  \n",
       "\n",
       "[5 rows x 91 columns]"
      ],
      "text/html": "<div>\n<style scoped>\n    .dataframe tbody tr th:only-of-type {\n        vertical-align: middle;\n    }\n\n    .dataframe tbody tr th {\n        vertical-align: top;\n    }\n\n    .dataframe thead th {\n        text-align: right;\n    }\n</style>\n<table border=\"1\" class=\"dataframe\">\n  <thead>\n    <tr style=\"text-align: right;\">\n      <th></th>\n      <th>Neighborhood</th>\n      <th>ATM</th>\n      <th>Accessories Store</th>\n      <th>American Restaurant</th>\n      <th>Art Museum</th>\n      <th>Asian Restaurant</th>\n      <th>Bakery</th>\n      <th>Baseball Field</th>\n      <th>Beach</th>\n      <th>Beer Bar</th>\n      <th>...</th>\n      <th>Tanning Salon</th>\n      <th>Tea Room</th>\n      <th>Thai Restaurant</th>\n      <th>Theater</th>\n      <th>Tiki Bar</th>\n      <th>Video Store</th>\n      <th>Vietnamese Restaurant</th>\n      <th>Wine Bar</th>\n      <th>Wine Shop</th>\n      <th>Yoga Studio</th>\n    </tr>\n  </thead>\n  <tbody>\n    <tr>\n      <td>0</td>\n      <td>Mission</td>\n      <td>0</td>\n      <td>0</td>\n      <td>1</td>\n      <td>0</td>\n      <td>0</td>\n      <td>0</td>\n      <td>0</td>\n      <td>0</td>\n      <td>0</td>\n      <td>...</td>\n      <td>0</td>\n      <td>0</td>\n      <td>0</td>\n      <td>0</td>\n      <td>0</td>\n      <td>0</td>\n      <td>0</td>\n      <td>0</td>\n      <td>0</td>\n      <td>0</td>\n    </tr>\n    <tr>\n      <td>1</td>\n      <td>Mission</td>\n      <td>0</td>\n      <td>0</td>\n      <td>0</td>\n      <td>0</td>\n      <td>0</td>\n      <td>0</td>\n      <td>0</td>\n      <td>0</td>\n      <td>0</td>\n      <td>...</td>\n      <td>0</td>\n      <td>0</td>\n      <td>0</td>\n      <td>0</td>\n      <td>0</td>\n      <td>0</td>\n      <td>0</td>\n      <td>0</td>\n      <td>0</td>\n      <td>0</td>\n    </tr>\n    <tr>\n      <td>2</td>\n      <td>Mission</td>\n      <td>0</td>\n      <td>0</td>\n      <td>0</td>\n      <td>0</td>\n      <td>0</td>\n      <td>0</td>\n      <td>0</td>\n      <td>0</td>\n      <td>0</td>\n      <td>...</td>\n      <td>0</td>\n      <td>0</td>\n      <td>0</td>\n      <td>0</td>\n      <td>0</td>\n      <td>0</td>\n      <td>0</td>\n      <td>0</td>\n      <td>0</td>\n      <td>0</td>\n    </tr>\n    <tr>\n      <td>3</td>\n      <td>Mission</td>\n      <td>0</td>\n      <td>0</td>\n      <td>0</td>\n      <td>0</td>\n      <td>0</td>\n      <td>0</td>\n      <td>0</td>\n      <td>0</td>\n      <td>0</td>\n      <td>...</td>\n      <td>0</td>\n      <td>0</td>\n      <td>0</td>\n      <td>0</td>\n      <td>0</td>\n      <td>0</td>\n      <td>0</td>\n      <td>0</td>\n      <td>0</td>\n      <td>0</td>\n    </tr>\n    <tr>\n      <td>4</td>\n      <td>Mission</td>\n      <td>0</td>\n      <td>0</td>\n      <td>0</td>\n      <td>0</td>\n      <td>0</td>\n      <td>0</td>\n      <td>0</td>\n      <td>0</td>\n      <td>0</td>\n      <td>...</td>\n      <td>0</td>\n      <td>0</td>\n      <td>0</td>\n      <td>0</td>\n      <td>0</td>\n      <td>0</td>\n      <td>0</td>\n      <td>0</td>\n      <td>0</td>\n      <td>0</td>\n    </tr>\n  </tbody>\n</table>\n<p>5 rows × 91 columns</p>\n</div>"
     },
     "metadata": {},
     "execution_count": 111
    }
   ],
   "source": [
    "SF_onehot = pd.get_dummies(SF_venues[['Venue Category']], prefix=\"\", prefix_sep=\"\")\n",
    "\n",
    "# add neighborhood column back to dataframe\n",
    "SF_onehot['Neighborhood'] = SF_venues['Neighborhood'] \n",
    "\n",
    "# move neighborhood column to the first column\n",
    "fixed_columns = [SF_onehot.columns[-1]] + list(SF_onehot.columns[:-1])\n",
    "SF_onehot = SF_onehot[fixed_columns]\n",
    "\n",
    "SF_onehot.head()"
   ]
  },
  {
   "cell_type": "code",
   "execution_count": 112,
   "metadata": {},
   "outputs": [
    {
     "output_type": "stream",
     "name": "stdout",
     "text": [
      "(8, 91)\n"
     ]
    },
    {
     "output_type": "execute_result",
     "data": {
      "text/plain": [
       "            Neighborhood       ATM  Accessories Store  American Restaurant  \\\n",
       "0  Bayview Hunters Point  0.058824           0.000000             0.117647   \n",
       "1    Castro/Upper Market  0.000000           0.000000             0.000000   \n",
       "2              Chinatown  0.000000           0.000000             0.000000   \n",
       "3                 Marina  0.000000           0.000000             0.000000   \n",
       "4                Mission  0.000000           0.000000             0.142857   \n",
       "5        South of Market  0.000000           0.033333             0.033333   \n",
       "6        Sunset/Parkside  0.000000           0.000000             0.000000   \n",
       "7             Tenderloin  0.000000           0.000000             0.000000   \n",
       "\n",
       "   Art Museum  Asian Restaurant    Bakery  Baseball Field  Beach  Beer Bar  \\\n",
       "0    0.000000          0.000000  0.000000             0.0  0.000  0.000000   \n",
       "1    0.000000          0.000000  0.033333             0.0  0.000  0.000000   \n",
       "2    0.000000          0.033333  0.066667             0.0  0.000  0.000000   \n",
       "3    0.000000          0.000000  0.000000             0.0  0.125  0.000000   \n",
       "4    0.000000          0.000000  0.000000             0.0  0.000  0.000000   \n",
       "5    0.033333          0.000000  0.033333             0.0  0.000  0.000000   \n",
       "6    0.000000          0.000000  0.000000             0.2  0.000  0.000000   \n",
       "7    0.000000          0.000000  0.033333             0.0  0.000  0.033333   \n",
       "\n",
       "   ...  Tanning Salon  Tea Room  Thai Restaurant   Theater  Tiki Bar  \\\n",
       "0  ...       0.058824  0.000000         0.000000  0.000000  0.000000   \n",
       "1  ...       0.000000  0.000000         0.000000  0.000000  0.033333   \n",
       "2  ...       0.000000  0.000000         0.033333  0.000000  0.000000   \n",
       "3  ...       0.000000  0.000000         0.000000  0.000000  0.000000   \n",
       "4  ...       0.000000  0.000000         0.000000  0.000000  0.000000   \n",
       "5  ...       0.000000  0.033333         0.000000  0.000000  0.000000   \n",
       "6  ...       0.000000  0.000000         0.000000  0.000000  0.000000   \n",
       "7  ...       0.000000  0.000000         0.033333  0.033333  0.000000   \n",
       "\n",
       "   Video Store  Vietnamese Restaurant  Wine Bar  Wine Shop  Yoga Studio  \n",
       "0     0.058824               0.000000  0.000000   0.000000     0.000000  \n",
       "1     0.000000               0.000000  0.033333   0.000000     0.033333  \n",
       "2     0.000000               0.000000  0.033333   0.000000     0.000000  \n",
       "3     0.000000               0.000000  0.000000   0.000000     0.000000  \n",
       "4     0.000000               0.000000  0.000000   0.000000     0.000000  \n",
       "5     0.000000               0.033333  0.000000   0.033333     0.000000  \n",
       "6     0.000000               0.000000  0.000000   0.000000     0.000000  \n",
       "7     0.000000               0.033333  0.066667   0.000000     0.000000  \n",
       "\n",
       "[8 rows x 91 columns]"
      ],
      "text/html": "<div>\n<style scoped>\n    .dataframe tbody tr th:only-of-type {\n        vertical-align: middle;\n    }\n\n    .dataframe tbody tr th {\n        vertical-align: top;\n    }\n\n    .dataframe thead th {\n        text-align: right;\n    }\n</style>\n<table border=\"1\" class=\"dataframe\">\n  <thead>\n    <tr style=\"text-align: right;\">\n      <th></th>\n      <th>Neighborhood</th>\n      <th>ATM</th>\n      <th>Accessories Store</th>\n      <th>American Restaurant</th>\n      <th>Art Museum</th>\n      <th>Asian Restaurant</th>\n      <th>Bakery</th>\n      <th>Baseball Field</th>\n      <th>Beach</th>\n      <th>Beer Bar</th>\n      <th>...</th>\n      <th>Tanning Salon</th>\n      <th>Tea Room</th>\n      <th>Thai Restaurant</th>\n      <th>Theater</th>\n      <th>Tiki Bar</th>\n      <th>Video Store</th>\n      <th>Vietnamese Restaurant</th>\n      <th>Wine Bar</th>\n      <th>Wine Shop</th>\n      <th>Yoga Studio</th>\n    </tr>\n  </thead>\n  <tbody>\n    <tr>\n      <td>0</td>\n      <td>Bayview Hunters Point</td>\n      <td>0.058824</td>\n      <td>0.000000</td>\n      <td>0.117647</td>\n      <td>0.000000</td>\n      <td>0.000000</td>\n      <td>0.000000</td>\n      <td>0.0</td>\n      <td>0.000</td>\n      <td>0.000000</td>\n      <td>...</td>\n      <td>0.058824</td>\n      <td>0.000000</td>\n      <td>0.000000</td>\n      <td>0.000000</td>\n      <td>0.000000</td>\n      <td>0.058824</td>\n      <td>0.000000</td>\n      <td>0.000000</td>\n      <td>0.000000</td>\n      <td>0.000000</td>\n    </tr>\n    <tr>\n      <td>1</td>\n      <td>Castro/Upper Market</td>\n      <td>0.000000</td>\n      <td>0.000000</td>\n      <td>0.000000</td>\n      <td>0.000000</td>\n      <td>0.000000</td>\n      <td>0.033333</td>\n      <td>0.0</td>\n      <td>0.000</td>\n      <td>0.000000</td>\n      <td>...</td>\n      <td>0.000000</td>\n      <td>0.000000</td>\n      <td>0.000000</td>\n      <td>0.000000</td>\n      <td>0.033333</td>\n      <td>0.000000</td>\n      <td>0.000000</td>\n      <td>0.033333</td>\n      <td>0.000000</td>\n      <td>0.033333</td>\n    </tr>\n    <tr>\n      <td>2</td>\n      <td>Chinatown</td>\n      <td>0.000000</td>\n      <td>0.000000</td>\n      <td>0.000000</td>\n      <td>0.000000</td>\n      <td>0.033333</td>\n      <td>0.066667</td>\n      <td>0.0</td>\n      <td>0.000</td>\n      <td>0.000000</td>\n      <td>...</td>\n      <td>0.000000</td>\n      <td>0.000000</td>\n      <td>0.033333</td>\n      <td>0.000000</td>\n      <td>0.000000</td>\n      <td>0.000000</td>\n      <td>0.000000</td>\n      <td>0.033333</td>\n      <td>0.000000</td>\n      <td>0.000000</td>\n    </tr>\n    <tr>\n      <td>3</td>\n      <td>Marina</td>\n      <td>0.000000</td>\n      <td>0.000000</td>\n      <td>0.000000</td>\n      <td>0.000000</td>\n      <td>0.000000</td>\n      <td>0.000000</td>\n      <td>0.0</td>\n      <td>0.125</td>\n      <td>0.000000</td>\n      <td>...</td>\n      <td>0.000000</td>\n      <td>0.000000</td>\n      <td>0.000000</td>\n      <td>0.000000</td>\n      <td>0.000000</td>\n      <td>0.000000</td>\n      <td>0.000000</td>\n      <td>0.000000</td>\n      <td>0.000000</td>\n      <td>0.000000</td>\n    </tr>\n    <tr>\n      <td>4</td>\n      <td>Mission</td>\n      <td>0.000000</td>\n      <td>0.000000</td>\n      <td>0.142857</td>\n      <td>0.000000</td>\n      <td>0.000000</td>\n      <td>0.000000</td>\n      <td>0.0</td>\n      <td>0.000</td>\n      <td>0.000000</td>\n      <td>...</td>\n      <td>0.000000</td>\n      <td>0.000000</td>\n      <td>0.000000</td>\n      <td>0.000000</td>\n      <td>0.000000</td>\n      <td>0.000000</td>\n      <td>0.000000</td>\n      <td>0.000000</td>\n      <td>0.000000</td>\n      <td>0.000000</td>\n    </tr>\n    <tr>\n      <td>5</td>\n      <td>South of Market</td>\n      <td>0.000000</td>\n      <td>0.033333</td>\n      <td>0.033333</td>\n      <td>0.033333</td>\n      <td>0.000000</td>\n      <td>0.033333</td>\n      <td>0.0</td>\n      <td>0.000</td>\n      <td>0.000000</td>\n      <td>...</td>\n      <td>0.000000</td>\n      <td>0.033333</td>\n      <td>0.000000</td>\n      <td>0.000000</td>\n      <td>0.000000</td>\n      <td>0.000000</td>\n      <td>0.033333</td>\n      <td>0.000000</td>\n      <td>0.033333</td>\n      <td>0.000000</td>\n    </tr>\n    <tr>\n      <td>6</td>\n      <td>Sunset/Parkside</td>\n      <td>0.000000</td>\n      <td>0.000000</td>\n      <td>0.000000</td>\n      <td>0.000000</td>\n      <td>0.000000</td>\n      <td>0.000000</td>\n      <td>0.2</td>\n      <td>0.000</td>\n      <td>0.000000</td>\n      <td>...</td>\n      <td>0.000000</td>\n      <td>0.000000</td>\n      <td>0.000000</td>\n      <td>0.000000</td>\n      <td>0.000000</td>\n      <td>0.000000</td>\n      <td>0.000000</td>\n      <td>0.000000</td>\n      <td>0.000000</td>\n      <td>0.000000</td>\n    </tr>\n    <tr>\n      <td>7</td>\n      <td>Tenderloin</td>\n      <td>0.000000</td>\n      <td>0.000000</td>\n      <td>0.000000</td>\n      <td>0.000000</td>\n      <td>0.000000</td>\n      <td>0.033333</td>\n      <td>0.0</td>\n      <td>0.000</td>\n      <td>0.033333</td>\n      <td>...</td>\n      <td>0.000000</td>\n      <td>0.000000</td>\n      <td>0.033333</td>\n      <td>0.033333</td>\n      <td>0.000000</td>\n      <td>0.000000</td>\n      <td>0.033333</td>\n      <td>0.066667</td>\n      <td>0.000000</td>\n      <td>0.000000</td>\n    </tr>\n  </tbody>\n</table>\n<p>8 rows × 91 columns</p>\n</div>"
     },
     "metadata": {},
     "execution_count": 112
    }
   ],
   "source": [
    "\n",
    "SF_grouped = SF_onehot.groupby('Neighborhood').mean().reset_index()\n",
    "print(SF_grouped.shape)\n",
    "SF_grouped"
   ]
  },
  {
   "cell_type": "code",
   "execution_count": 113,
   "metadata": {},
   "outputs": [
    {
     "output_type": "stream",
     "name": "stdout",
     "text": [
      "----Bayview Hunters Point----\n                 venue  freq\n0  American Restaurant  0.12\n1          Pizza Place  0.12\n2          Coffee Shop  0.12\n3                  ATM  0.06\n4        Tanning Salon  0.06\n\n\n----Castro/Upper Market----\n              venue  freq\n0  Sushi Restaurant  0.07\n1               Gym  0.07\n2           Gay Bar  0.07\n3       Yoga Studio  0.03\n4       Pizza Place  0.03\n\n\n----Chinatown----\n                venue  freq\n0  Chinese Restaurant  0.13\n1        Optical Shop  0.10\n2      Ice Cream Shop  0.07\n3  Salon / Barbershop  0.07\n4              Bakery  0.07\n\n\n----Marina----\n                         venue  freq\n0  Eastern European Restaurant  0.12\n1                        Hotel  0.12\n2                         Food  0.12\n3              Harbor / Marina  0.12\n4                        Beach  0.12\n\n\n----Mission----\n                 venue  freq\n0  American Restaurant  0.14\n1    Convenience Store  0.14\n2       History Museum  0.07\n3        Grocery Store  0.07\n4         Liquor Store  0.07\n\n\n----South of Market----\n                     venue  freq\n0     Gym / Fitness Center  0.07\n1              Pizza Place  0.07\n2                     Café  0.07\n3  New American Restaurant  0.07\n4              Coffee Shop  0.07\n\n\n----Sunset/Parkside----\n            venue  freq\n0      Playground   0.2\n1     Flower Shop   0.2\n2  Baseball Field   0.2\n3            Park   0.2\n4     Gas Station   0.2\n\n\n----Tenderloin----\n            venue  freq\n0     Coffee Shop  0.17\n1    Cocktail Bar  0.07\n2        Wine Bar  0.07\n3  Sandwich Place  0.07\n4       Speakeasy  0.07\n\n\n"
     ]
    }
   ],
   "source": [
    "#print each neighborhood with the top 5 most common venues\n",
    "num_top_venues = 5\n",
    "\n",
    "for hood in SF_grouped['Neighborhood']:\n",
    "    print(\"----\"+hood+\"----\")\n",
    "    temp = SF_grouped[SF_grouped['Neighborhood'] == hood].T.reset_index()\n",
    "    temp.columns = ['venue','freq']\n",
    "    temp = temp.iloc[1:]\n",
    "    temp['freq'] = temp['freq'].astype(float)\n",
    "    temp = temp.round({'freq': 2})\n",
    "    print(temp.sort_values('freq', ascending=False).reset_index(drop=True).head(num_top_venues))\n",
    "    print('\\n')"
   ]
  },
  {
   "cell_type": "code",
   "execution_count": 114,
   "metadata": {},
   "outputs": [],
   "source": [
    "def return_most_common_venues(row, num_top_venues):\n",
    "    row_categories = row.iloc[1:]\n",
    "    row_categories_sorted = row_categories.sort_values(ascending=False)\n",
    "    \n",
    "    return row_categories_sorted.index.values[0:num_top_venues]"
   ]
  },
  {
   "cell_type": "code",
   "execution_count": 115,
   "metadata": {},
   "outputs": [
    {
     "output_type": "execute_result",
     "data": {
      "text/plain": [
       "            Neighborhood 1st Most Common Venue        2nd Most Common Venue  \\\n",
       "0  Bayview Hunters Point           Coffee Shop          American Restaurant   \n",
       "1    Castro/Upper Market      Sushi Restaurant                      Gay Bar   \n",
       "2              Chinatown    Chinese Restaurant                 Optical Shop   \n",
       "3                 Marina                 Hotel  Eastern European Restaurant   \n",
       "4                Mission   American Restaurant            Convenience Store   \n",
       "5        South of Market                  Café         Gym / Fitness Center   \n",
       "6        Sunset/Parkside            Playground                         Park   \n",
       "7             Tenderloin           Coffee Shop                     Wine Bar   \n",
       "\n",
       "  3rd Most Common Venue 4th Most Common Venue    5th Most Common Venue  \\\n",
       "0           Pizza Place           Supermarket       Frozen Yogurt Shop   \n",
       "1                   Gym           Yoga Studio               Poke Place   \n",
       "2          Dessert Shop        Ice Cream Shop                   Bakery   \n",
       "3       Harbor / Marina           Coffee Shop                    Beach   \n",
       "4         Grocery Store      Football Stadium        Electronics Store   \n",
       "5           Pizza Place           Coffee Shop  New American Restaurant   \n",
       "6           Gas Station        Baseball Field              Flower Shop   \n",
       "7          Cocktail Bar          Burger Joint           Sandwich Place   \n",
       "\n",
       "  6th Most Common Venue 7th Most Common Venue 8th Most Common Venue  \\\n",
       "0          Liquor Store    Mexican Restaurant     Electronics Store   \n",
       "1           Pizza Place             Pet Store           Coffee Shop   \n",
       "2    Salon / Barbershop                   Spa          Cocktail Bar   \n",
       "3          Cocktail Bar         Boat or Ferry                  Food   \n",
       "4                  Park           Coffee Shop        Clothing Store   \n",
       "5            Art Museum         Grocery Store             Dive Shop   \n",
       "6            Food Truck          Dessert Shop             Dive Shop   \n",
       "7             Speakeasy   Hawaiian Restaurant              Beer Bar   \n",
       "\n",
       "         9th Most Common Venue  ... 21th Most Common Venue  \\\n",
       "0                       Museum  ...            Flower Shop   \n",
       "1                 Concert Hall  ...     Seafood Restaurant   \n",
       "2                  Snack Place  ...             Food Truck   \n",
       "3                  Yoga Studio  ...                Gay Bar   \n",
       "4                Movie Theater  ...            Gas Station   \n",
       "5                       Museum  ...              Wine Shop   \n",
       "6  Eastern European Restaurant  ...          Grocery Store   \n",
       "7          Filipino Restaurant  ...                    Spa   \n",
       "\n",
       "        22th Most Common Venue 23th Most Common Venue 24th Most Common Venue  \\\n",
       "0                         Food             Food Truck           Dessert Shop   \n",
       "1               Sandwich Place                 Bakery               Tiki Bar   \n",
       "2  Eastern European Restaurant          Design Studio              Dive Shop   \n",
       "3                 Gourmet Shop          Grocery Store                    Gym   \n",
       "4          Filipino Restaurant                Gay Bar           Gourmet Shop   \n",
       "5            French Restaurant    American Restaurant               Tea Room   \n",
       "6                          Gym               Fountain           Dance Studio   \n",
       "7            Electronics Store           Dessert Shop              Dive Shop   \n",
       "\n",
       "        25th Most Common Venue 26th Most Common Venue  \\\n",
       "0             Football Stadium               Fountain   \n",
       "1                  Beer Garden               Wine Bar   \n",
       "2           Frozen Yogurt Shop      French Restaurant   \n",
       "3                    Dive Shop         Cosmetics Shop   \n",
       "4  Eastern European Restaurant            Yoga Studio   \n",
       "5                       Bakery       Football Stadium   \n",
       "6              Harbor / Marina         Cosmetics Shop   \n",
       "7  Eastern European Restaurant            Gas Station   \n",
       "\n",
       "        27th Most Common Venue 28th Most Common Venue 29th Most Common Venue  \\\n",
       "0            French Restaurant      Accessories Store                 Garden   \n",
       "1      Scandinavian Restaurant       Football Stadium      Accessories Store   \n",
       "2            Electronics Store           Dance Studio    Filipino Restaurant   \n",
       "3                Design Studio            Beer Garden      Accessories Store   \n",
       "4                 Dessert Shop          Boat or Ferry      Accessories Store   \n",
       "5  Eastern European Restaurant                   Food            Flower Shop   \n",
       "6            Accessories Store    American Restaurant             Art Museum   \n",
       "7             Football Stadium                 Garden     Frozen Yogurt Shop   \n",
       "\n",
       "  30th Most Common Venue  \n",
       "0            Gas Station  \n",
       "1    American Restaurant  \n",
       "2            Flower Shop  \n",
       "3    American Restaurant  \n",
       "4             Art Museum  \n",
       "5    Filipino Restaurant  \n",
       "6       Asian Restaurant  \n",
       "7      French Restaurant  \n",
       "\n",
       "[8 rows x 31 columns]"
      ],
      "text/html": "<div>\n<style scoped>\n    .dataframe tbody tr th:only-of-type {\n        vertical-align: middle;\n    }\n\n    .dataframe tbody tr th {\n        vertical-align: top;\n    }\n\n    .dataframe thead th {\n        text-align: right;\n    }\n</style>\n<table border=\"1\" class=\"dataframe\">\n  <thead>\n    <tr style=\"text-align: right;\">\n      <th></th>\n      <th>Neighborhood</th>\n      <th>1st Most Common Venue</th>\n      <th>2nd Most Common Venue</th>\n      <th>3rd Most Common Venue</th>\n      <th>4th Most Common Venue</th>\n      <th>5th Most Common Venue</th>\n      <th>6th Most Common Venue</th>\n      <th>7th Most Common Venue</th>\n      <th>8th Most Common Venue</th>\n      <th>9th Most Common Venue</th>\n      <th>...</th>\n      <th>21th Most Common Venue</th>\n      <th>22th Most Common Venue</th>\n      <th>23th Most Common Venue</th>\n      <th>24th Most Common Venue</th>\n      <th>25th Most Common Venue</th>\n      <th>26th Most Common Venue</th>\n      <th>27th Most Common Venue</th>\n      <th>28th Most Common Venue</th>\n      <th>29th Most Common Venue</th>\n      <th>30th Most Common Venue</th>\n    </tr>\n  </thead>\n  <tbody>\n    <tr>\n      <td>0</td>\n      <td>Bayview Hunters Point</td>\n      <td>Coffee Shop</td>\n      <td>American Restaurant</td>\n      <td>Pizza Place</td>\n      <td>Supermarket</td>\n      <td>Frozen Yogurt Shop</td>\n      <td>Liquor Store</td>\n      <td>Mexican Restaurant</td>\n      <td>Electronics Store</td>\n      <td>Museum</td>\n      <td>...</td>\n      <td>Flower Shop</td>\n      <td>Food</td>\n      <td>Food Truck</td>\n      <td>Dessert Shop</td>\n      <td>Football Stadium</td>\n      <td>Fountain</td>\n      <td>French Restaurant</td>\n      <td>Accessories Store</td>\n      <td>Garden</td>\n      <td>Gas Station</td>\n    </tr>\n    <tr>\n      <td>1</td>\n      <td>Castro/Upper Market</td>\n      <td>Sushi Restaurant</td>\n      <td>Gay Bar</td>\n      <td>Gym</td>\n      <td>Yoga Studio</td>\n      <td>Poke Place</td>\n      <td>Pizza Place</td>\n      <td>Pet Store</td>\n      <td>Coffee Shop</td>\n      <td>Concert Hall</td>\n      <td>...</td>\n      <td>Seafood Restaurant</td>\n      <td>Sandwich Place</td>\n      <td>Bakery</td>\n      <td>Tiki Bar</td>\n      <td>Beer Garden</td>\n      <td>Wine Bar</td>\n      <td>Scandinavian Restaurant</td>\n      <td>Football Stadium</td>\n      <td>Accessories Store</td>\n      <td>American Restaurant</td>\n    </tr>\n    <tr>\n      <td>2</td>\n      <td>Chinatown</td>\n      <td>Chinese Restaurant</td>\n      <td>Optical Shop</td>\n      <td>Dessert Shop</td>\n      <td>Ice Cream Shop</td>\n      <td>Bakery</td>\n      <td>Salon / Barbershop</td>\n      <td>Spa</td>\n      <td>Cocktail Bar</td>\n      <td>Snack Place</td>\n      <td>...</td>\n      <td>Food Truck</td>\n      <td>Eastern European Restaurant</td>\n      <td>Design Studio</td>\n      <td>Dive Shop</td>\n      <td>Frozen Yogurt Shop</td>\n      <td>French Restaurant</td>\n      <td>Electronics Store</td>\n      <td>Dance Studio</td>\n      <td>Filipino Restaurant</td>\n      <td>Flower Shop</td>\n    </tr>\n    <tr>\n      <td>3</td>\n      <td>Marina</td>\n      <td>Hotel</td>\n      <td>Eastern European Restaurant</td>\n      <td>Harbor / Marina</td>\n      <td>Coffee Shop</td>\n      <td>Beach</td>\n      <td>Cocktail Bar</td>\n      <td>Boat or Ferry</td>\n      <td>Food</td>\n      <td>Yoga Studio</td>\n      <td>...</td>\n      <td>Gay Bar</td>\n      <td>Gourmet Shop</td>\n      <td>Grocery Store</td>\n      <td>Gym</td>\n      <td>Dive Shop</td>\n      <td>Cosmetics Shop</td>\n      <td>Design Studio</td>\n      <td>Beer Garden</td>\n      <td>Accessories Store</td>\n      <td>American Restaurant</td>\n    </tr>\n    <tr>\n      <td>4</td>\n      <td>Mission</td>\n      <td>American Restaurant</td>\n      <td>Convenience Store</td>\n      <td>Grocery Store</td>\n      <td>Football Stadium</td>\n      <td>Electronics Store</td>\n      <td>Park</td>\n      <td>Coffee Shop</td>\n      <td>Clothing Store</td>\n      <td>Movie Theater</td>\n      <td>...</td>\n      <td>Gas Station</td>\n      <td>Filipino Restaurant</td>\n      <td>Gay Bar</td>\n      <td>Gourmet Shop</td>\n      <td>Eastern European Restaurant</td>\n      <td>Yoga Studio</td>\n      <td>Dessert Shop</td>\n      <td>Boat or Ferry</td>\n      <td>Accessories Store</td>\n      <td>Art Museum</td>\n    </tr>\n    <tr>\n      <td>5</td>\n      <td>South of Market</td>\n      <td>Café</td>\n      <td>Gym / Fitness Center</td>\n      <td>Pizza Place</td>\n      <td>Coffee Shop</td>\n      <td>New American Restaurant</td>\n      <td>Art Museum</td>\n      <td>Grocery Store</td>\n      <td>Dive Shop</td>\n      <td>Museum</td>\n      <td>...</td>\n      <td>Wine Shop</td>\n      <td>French Restaurant</td>\n      <td>American Restaurant</td>\n      <td>Tea Room</td>\n      <td>Bakery</td>\n      <td>Football Stadium</td>\n      <td>Eastern European Restaurant</td>\n      <td>Food</td>\n      <td>Flower Shop</td>\n      <td>Filipino Restaurant</td>\n    </tr>\n    <tr>\n      <td>6</td>\n      <td>Sunset/Parkside</td>\n      <td>Playground</td>\n      <td>Park</td>\n      <td>Gas Station</td>\n      <td>Baseball Field</td>\n      <td>Flower Shop</td>\n      <td>Food Truck</td>\n      <td>Dessert Shop</td>\n      <td>Dive Shop</td>\n      <td>Eastern European Restaurant</td>\n      <td>...</td>\n      <td>Grocery Store</td>\n      <td>Gym</td>\n      <td>Fountain</td>\n      <td>Dance Studio</td>\n      <td>Harbor / Marina</td>\n      <td>Cosmetics Shop</td>\n      <td>Accessories Store</td>\n      <td>American Restaurant</td>\n      <td>Art Museum</td>\n      <td>Asian Restaurant</td>\n    </tr>\n    <tr>\n      <td>7</td>\n      <td>Tenderloin</td>\n      <td>Coffee Shop</td>\n      <td>Wine Bar</td>\n      <td>Cocktail Bar</td>\n      <td>Burger Joint</td>\n      <td>Sandwich Place</td>\n      <td>Speakeasy</td>\n      <td>Hawaiian Restaurant</td>\n      <td>Beer Bar</td>\n      <td>Filipino Restaurant</td>\n      <td>...</td>\n      <td>Spa</td>\n      <td>Electronics Store</td>\n      <td>Dessert Shop</td>\n      <td>Dive Shop</td>\n      <td>Eastern European Restaurant</td>\n      <td>Gas Station</td>\n      <td>Football Stadium</td>\n      <td>Garden</td>\n      <td>Frozen Yogurt Shop</td>\n      <td>French Restaurant</td>\n    </tr>\n  </tbody>\n</table>\n<p>8 rows × 31 columns</p>\n</div>"
     },
     "metadata": {},
     "execution_count": 115
    }
   ],
   "source": [
    "num_top_venues = 30\n",
    "\n",
    "indicators = ['st', 'nd', 'rd']\n",
    "\n",
    "# create columns according to number of top venues\n",
    "columns = ['Neighborhood']\n",
    "for ind in np.arange(num_top_venues):\n",
    "    try:\n",
    "        columns.append('{}{} Most Common Venue'.format(ind+1, indicators[ind]))\n",
    "    except:\n",
    "        columns.append('{}th Most Common Venue'.format(ind+1))\n",
    "\n",
    "# create a new dataframe\n",
    "neighborhoods_venues_sorted = pd.DataFrame(columns=columns)\n",
    "neighborhoods_venues_sorted['Neighborhood'] = SF_grouped['Neighborhood']\n",
    "\n",
    "for ind in np.arange(SF_grouped.shape[0]):\n",
    "    neighborhoods_venues_sorted.iloc[ind, 1:] = return_most_common_venues(SF_grouped.iloc[ind, :], num_top_venues)\n",
    "\n",
    "neighborhoods_venues_sorted"
   ]
  },
  {
   "cell_type": "code",
   "execution_count": 122,
   "metadata": {},
   "outputs": [
    {
     "output_type": "execute_result",
     "data": {
      "text/plain": [
       "array([0, 0, 0, 2, 0, 0, 1, 0])"
      ]
     },
     "metadata": {},
     "execution_count": 122
    }
   ],
   "source": [
    "\n",
    "from sklearn.cluster import KMeans\n",
    "\n",
    "kclusters = 3\n",
    "\n",
    "SF_grouped_clustering = SF_grouped.drop('Neighborhood', 1)\n",
    "\n",
    "# run k-means clustering\n",
    "kmeans = KMeans(n_clusters=kclusters, random_state=0).fit(SF_grouped_clustering)\n",
    "\n",
    "# check cluster labels generated for each row in the dataframe\n",
    "kmeans.labels_[0:10]"
   ]
  },
  {
   "cell_type": "code",
   "execution_count": null,
   "metadata": {},
   "outputs": [],
   "source": []
  }
 ]
}